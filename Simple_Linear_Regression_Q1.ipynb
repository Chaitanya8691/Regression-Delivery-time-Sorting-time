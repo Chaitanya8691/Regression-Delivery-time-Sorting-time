{
 "cells": [
  {
   "cell_type": "markdown",
   "id": "0071a03d",
   "metadata": {},
   "source": [
    "# Simple Linear Regression-Q1"
   ]
  },
  {
   "cell_type": "markdown",
   "id": "da2f7ff9",
   "metadata": {},
   "source": [
    "## Predict delivery time using sorting time"
   ]
  },
  {
   "cell_type": "markdown",
   "id": "e2cf5410",
   "metadata": {},
   "source": [
    "### Step-1 : Import libraries"
   ]
  },
  {
   "cell_type": "code",
   "execution_count": 1,
   "id": "bf73d1cb",
   "metadata": {
    "ExecuteTime": {
     "end_time": "2023-02-14T15:26:53.237316Z",
     "start_time": "2023-02-14T15:26:01.169877Z"
    }
   },
   "outputs": [],
   "source": [
    "import pandas as pd\n",
    "import numpy as np\n",
    "import matplotlib.pyplot as plt\n",
    "import seaborn as sb\n",
    "import warnings as warnings\n",
    "warnings.filterwarnings(\"ignore\")\n",
    "from scipy import stats\n",
    "import statsmodels.api as sm\n",
    "import statsmodels.formula.api as smf"
   ]
  },
  {
   "cell_type": "markdown",
   "id": "23e5d914",
   "metadata": {},
   "source": [
    "### Step-2 : Descriptive analysis"
   ]
  },
  {
   "cell_type": "markdown",
   "id": "9f55ab4f",
   "metadata": {},
   "source": [
    "### Step-2.1 : Working with Dataset"
   ]
  },
  {
   "cell_type": "markdown",
   "id": "30024290",
   "metadata": {},
   "source": [
    "#### Loading the Dataset"
   ]
  },
  {
   "cell_type": "code",
   "execution_count": 2,
   "id": "826ed971",
   "metadata": {
    "ExecuteTime": {
     "end_time": "2023-02-14T15:26:53.735041Z",
     "start_time": "2023-02-14T15:26:53.239316Z"
    }
   },
   "outputs": [],
   "source": [
    "# Deliver time with respect to sorting time\n",
    "dt_st = pd.read_csv(\"delivery_time.csv\")"
   ]
  },
  {
   "cell_type": "markdown",
   "id": "c5e8b654",
   "metadata": {},
   "source": [
    "#### Exploring the dataset"
   ]
  },
  {
   "cell_type": "code",
   "execution_count": 3,
   "id": "48a3e928",
   "metadata": {
    "ExecuteTime": {
     "end_time": "2023-02-14T15:26:53.892303Z",
     "start_time": "2023-02-14T15:26:53.738068Z"
    }
   },
   "outputs": [
    {
     "data": {
      "text/html": [
       "<div>\n",
       "<style scoped>\n",
       "    .dataframe tbody tr th:only-of-type {\n",
       "        vertical-align: middle;\n",
       "    }\n",
       "\n",
       "    .dataframe tbody tr th {\n",
       "        vertical-align: top;\n",
       "    }\n",
       "\n",
       "    .dataframe thead th {\n",
       "        text-align: right;\n",
       "    }\n",
       "</style>\n",
       "<table border=\"1\" class=\"dataframe\">\n",
       "  <thead>\n",
       "    <tr style=\"text-align: right;\">\n",
       "      <th></th>\n",
       "      <th>Deliver Time</th>\n",
       "      <th>Sorting Time</th>\n",
       "    </tr>\n",
       "  </thead>\n",
       "  <tbody>\n",
       "    <tr>\n",
       "      <th>0</th>\n",
       "      <td>21.00</td>\n",
       "      <td>10</td>\n",
       "    </tr>\n",
       "    <tr>\n",
       "      <th>1</th>\n",
       "      <td>13.50</td>\n",
       "      <td>4</td>\n",
       "    </tr>\n",
       "    <tr>\n",
       "      <th>2</th>\n",
       "      <td>19.75</td>\n",
       "      <td>6</td>\n",
       "    </tr>\n",
       "    <tr>\n",
       "      <th>3</th>\n",
       "      <td>24.00</td>\n",
       "      <td>9</td>\n",
       "    </tr>\n",
       "    <tr>\n",
       "      <th>4</th>\n",
       "      <td>29.00</td>\n",
       "      <td>10</td>\n",
       "    </tr>\n",
       "    <tr>\n",
       "      <th>5</th>\n",
       "      <td>15.35</td>\n",
       "      <td>6</td>\n",
       "    </tr>\n",
       "    <tr>\n",
       "      <th>6</th>\n",
       "      <td>19.00</td>\n",
       "      <td>7</td>\n",
       "    </tr>\n",
       "    <tr>\n",
       "      <th>7</th>\n",
       "      <td>9.50</td>\n",
       "      <td>3</td>\n",
       "    </tr>\n",
       "    <tr>\n",
       "      <th>8</th>\n",
       "      <td>17.90</td>\n",
       "      <td>10</td>\n",
       "    </tr>\n",
       "    <tr>\n",
       "      <th>9</th>\n",
       "      <td>18.75</td>\n",
       "      <td>9</td>\n",
       "    </tr>\n",
       "  </tbody>\n",
       "</table>\n",
       "</div>"
      ],
      "text/plain": [
       "   Deliver Time  Sorting Time\n",
       "0         21.00            10\n",
       "1         13.50             4\n",
       "2         19.75             6\n",
       "3         24.00             9\n",
       "4         29.00            10\n",
       "5         15.35             6\n",
       "6         19.00             7\n",
       "7          9.50             3\n",
       "8         17.90            10\n",
       "9         18.75             9"
      ]
     },
     "execution_count": 3,
     "metadata": {},
     "output_type": "execute_result"
    }
   ],
   "source": [
    "# Displaying first ten records\n",
    "dt_st.head(10)"
   ]
  },
  {
   "cell_type": "code",
   "execution_count": 4,
   "id": "9530e992",
   "metadata": {
    "ExecuteTime": {
     "end_time": "2023-02-14T15:26:53.908264Z",
     "start_time": "2023-02-14T15:26:53.894300Z"
    }
   },
   "outputs": [
    {
     "data": {
      "text/plain": [
       "(21, 2)"
      ]
     },
     "execution_count": 4,
     "metadata": {},
     "output_type": "execute_result"
    }
   ],
   "source": [
    "# Shape of the data\n",
    "dt_st.shape"
   ]
  },
  {
   "cell_type": "code",
   "execution_count": 5,
   "id": "85ecb66a",
   "metadata": {
    "ExecuteTime": {
     "end_time": "2023-02-14T15:26:54.047955Z",
     "start_time": "2023-02-14T15:26:53.910259Z"
    },
    "scrolled": true
   },
   "outputs": [
    {
     "data": {
      "text/html": [
       "<div>\n",
       "<style scoped>\n",
       "    .dataframe tbody tr th:only-of-type {\n",
       "        vertical-align: middle;\n",
       "    }\n",
       "\n",
       "    .dataframe tbody tr th {\n",
       "        vertical-align: top;\n",
       "    }\n",
       "\n",
       "    .dataframe thead th {\n",
       "        text-align: right;\n",
       "    }\n",
       "</style>\n",
       "<table border=\"1\" class=\"dataframe\">\n",
       "  <thead>\n",
       "    <tr style=\"text-align: right;\">\n",
       "      <th></th>\n",
       "      <th>Deliver Time</th>\n",
       "      <th>Sorting Time</th>\n",
       "    </tr>\n",
       "  </thead>\n",
       "  <tbody>\n",
       "    <tr>\n",
       "      <th>count</th>\n",
       "      <td>21.000000</td>\n",
       "      <td>21.000000</td>\n",
       "    </tr>\n",
       "    <tr>\n",
       "      <th>mean</th>\n",
       "      <td>16.790952</td>\n",
       "      <td>6.190476</td>\n",
       "    </tr>\n",
       "    <tr>\n",
       "      <th>std</th>\n",
       "      <td>5.074901</td>\n",
       "      <td>2.542028</td>\n",
       "    </tr>\n",
       "    <tr>\n",
       "      <th>min</th>\n",
       "      <td>8.000000</td>\n",
       "      <td>2.000000</td>\n",
       "    </tr>\n",
       "    <tr>\n",
       "      <th>25%</th>\n",
       "      <td>13.500000</td>\n",
       "      <td>4.000000</td>\n",
       "    </tr>\n",
       "    <tr>\n",
       "      <th>50%</th>\n",
       "      <td>17.830000</td>\n",
       "      <td>6.000000</td>\n",
       "    </tr>\n",
       "    <tr>\n",
       "      <th>75%</th>\n",
       "      <td>19.750000</td>\n",
       "      <td>8.000000</td>\n",
       "    </tr>\n",
       "    <tr>\n",
       "      <th>max</th>\n",
       "      <td>29.000000</td>\n",
       "      <td>10.000000</td>\n",
       "    </tr>\n",
       "  </tbody>\n",
       "</table>\n",
       "</div>"
      ],
      "text/plain": [
       "       Deliver Time  Sorting Time\n",
       "count     21.000000     21.000000\n",
       "mean      16.790952      6.190476\n",
       "std        5.074901      2.542028\n",
       "min        8.000000      2.000000\n",
       "25%       13.500000      4.000000\n",
       "50%       17.830000      6.000000\n",
       "75%       19.750000      8.000000\n",
       "max       29.000000     10.000000"
      ]
     },
     "execution_count": 5,
     "metadata": {},
     "output_type": "execute_result"
    }
   ],
   "source": [
    "# Summary of the data\n",
    "dt_st.describe()"
   ]
  },
  {
   "cell_type": "code",
   "execution_count": 6,
   "id": "fab60c59",
   "metadata": {
    "ExecuteTime": {
     "end_time": "2023-02-14T15:26:54.140349Z",
     "start_time": "2023-02-14T15:26:54.049951Z"
    }
   },
   "outputs": [
    {
     "name": "stdout",
     "output_type": "stream",
     "text": [
      "<class 'pandas.core.frame.DataFrame'>\n",
      "RangeIndex: 21 entries, 0 to 20\n",
      "Data columns (total 2 columns):\n",
      " #   Column        Non-Null Count  Dtype  \n",
      "---  ------        --------------  -----  \n",
      " 0   Deliver Time  21 non-null     float64\n",
      " 1   Sorting Time  21 non-null     int64  \n",
      "dtypes: float64(1), int64(1)\n",
      "memory usage: 464.0 bytes\n"
     ]
    }
   ],
   "source": [
    "# Check the data types\n",
    "dt_st.info()"
   ]
  },
  {
   "cell_type": "markdown",
   "id": "d402a8b0",
   "metadata": {},
   "source": [
    "#### Modifying the dataset"
   ]
  },
  {
   "cell_type": "code",
   "execution_count": 7,
   "id": "f8b02219",
   "metadata": {
    "ExecuteTime": {
     "end_time": "2023-02-14T15:26:54.171264Z",
     "start_time": "2023-02-14T15:26:54.144336Z"
    }
   },
   "outputs": [
    {
     "data": {
      "text/html": [
       "<div>\n",
       "<style scoped>\n",
       "    .dataframe tbody tr th:only-of-type {\n",
       "        vertical-align: middle;\n",
       "    }\n",
       "\n",
       "    .dataframe tbody tr th {\n",
       "        vertical-align: top;\n",
       "    }\n",
       "\n",
       "    .dataframe thead th {\n",
       "        text-align: right;\n",
       "    }\n",
       "</style>\n",
       "<table border=\"1\" class=\"dataframe\">\n",
       "  <thead>\n",
       "    <tr style=\"text-align: right;\">\n",
       "      <th></th>\n",
       "      <th>Deliver_Time</th>\n",
       "      <th>Sorting_Time</th>\n",
       "    </tr>\n",
       "  </thead>\n",
       "  <tbody>\n",
       "    <tr>\n",
       "      <th>0</th>\n",
       "      <td>21.00</td>\n",
       "      <td>10</td>\n",
       "    </tr>\n",
       "    <tr>\n",
       "      <th>1</th>\n",
       "      <td>13.50</td>\n",
       "      <td>4</td>\n",
       "    </tr>\n",
       "    <tr>\n",
       "      <th>2</th>\n",
       "      <td>19.75</td>\n",
       "      <td>6</td>\n",
       "    </tr>\n",
       "    <tr>\n",
       "      <th>3</th>\n",
       "      <td>24.00</td>\n",
       "      <td>9</td>\n",
       "    </tr>\n",
       "    <tr>\n",
       "      <th>4</th>\n",
       "      <td>29.00</td>\n",
       "      <td>10</td>\n",
       "    </tr>\n",
       "    <tr>\n",
       "      <th>5</th>\n",
       "      <td>15.35</td>\n",
       "      <td>6</td>\n",
       "    </tr>\n",
       "    <tr>\n",
       "      <th>6</th>\n",
       "      <td>19.00</td>\n",
       "      <td>7</td>\n",
       "    </tr>\n",
       "    <tr>\n",
       "      <th>7</th>\n",
       "      <td>9.50</td>\n",
       "      <td>3</td>\n",
       "    </tr>\n",
       "    <tr>\n",
       "      <th>8</th>\n",
       "      <td>17.90</td>\n",
       "      <td>10</td>\n",
       "    </tr>\n",
       "    <tr>\n",
       "      <th>9</th>\n",
       "      <td>18.75</td>\n",
       "      <td>9</td>\n",
       "    </tr>\n",
       "  </tbody>\n",
       "</table>\n",
       "</div>"
      ],
      "text/plain": [
       "   Deliver_Time  Sorting_Time\n",
       "0         21.00            10\n",
       "1         13.50             4\n",
       "2         19.75             6\n",
       "3         24.00             9\n",
       "4         29.00            10\n",
       "5         15.35             6\n",
       "6         19.00             7\n",
       "7          9.50             3\n",
       "8         17.90            10\n",
       "9         18.75             9"
      ]
     },
     "execution_count": 7,
     "metadata": {},
     "output_type": "execute_result"
    }
   ],
   "source": [
    "dt_st=dt_st.rename(columns={'Deliver Time':'Deliver_Time','Sorting Time':'Sorting_Time'})\n",
    "dt_st.head(10)"
   ]
  },
  {
   "cell_type": "markdown",
   "id": "8fc274b3",
   "metadata": {},
   "source": [
    "### Step-2.2 : Handling missing values"
   ]
  },
  {
   "cell_type": "code",
   "execution_count": 8,
   "id": "d1afc980",
   "metadata": {
    "ExecuteTime": {
     "end_time": "2023-02-14T15:26:54.186228Z",
     "start_time": "2023-02-14T15:26:54.177250Z"
    }
   },
   "outputs": [
    {
     "data": {
      "text/plain": [
       "Deliver_Time    0\n",
       "Sorting_Time    0\n",
       "dtype: int64"
      ]
     },
     "execution_count": 8,
     "metadata": {},
     "output_type": "execute_result"
    }
   ],
   "source": [
    "# Check for Null values\n",
    "dt_st.isnull().sum()"
   ]
  },
  {
   "cell_type": "code",
   "execution_count": 9,
   "id": "b4fa93bf",
   "metadata": {
    "ExecuteTime": {
     "end_time": "2023-02-14T15:26:54.231626Z",
     "start_time": "2023-02-14T15:26:54.191212Z"
    }
   },
   "outputs": [
    {
     "data": {
      "text/plain": [
       "(0, 2)"
      ]
     },
     "execution_count": 9,
     "metadata": {},
     "output_type": "execute_result"
    }
   ],
   "source": [
    "# Check for duplicate values\n",
    "dt_st[dt_st.duplicated()].shape"
   ]
  },
  {
   "cell_type": "code",
   "execution_count": 10,
   "id": "953f27b7",
   "metadata": {
    "ExecuteTime": {
     "end_time": "2023-02-14T15:26:54.246586Z",
     "start_time": "2023-02-14T15:26:54.234638Z"
    },
    "scrolled": true
   },
   "outputs": [
    {
     "data": {
      "text/html": [
       "<div>\n",
       "<style scoped>\n",
       "    .dataframe tbody tr th:only-of-type {\n",
       "        vertical-align: middle;\n",
       "    }\n",
       "\n",
       "    .dataframe tbody tr th {\n",
       "        vertical-align: top;\n",
       "    }\n",
       "\n",
       "    .dataframe thead th {\n",
       "        text-align: right;\n",
       "    }\n",
       "</style>\n",
       "<table border=\"1\" class=\"dataframe\">\n",
       "  <thead>\n",
       "    <tr style=\"text-align: right;\">\n",
       "      <th></th>\n",
       "      <th>Deliver_Time</th>\n",
       "      <th>Sorting_Time</th>\n",
       "    </tr>\n",
       "  </thead>\n",
       "  <tbody>\n",
       "  </tbody>\n",
       "</table>\n",
       "</div>"
      ],
      "text/plain": [
       "Empty DataFrame\n",
       "Columns: [Deliver_Time, Sorting_Time]\n",
       "Index: []"
      ]
     },
     "execution_count": 10,
     "metadata": {},
     "output_type": "execute_result"
    }
   ],
   "source": [
    "dt_st[dt_st.duplicated()]"
   ]
  },
  {
   "cell_type": "code",
   "execution_count": 11,
   "id": "b222e659",
   "metadata": {
    "ExecuteTime": {
     "end_time": "2023-02-14T15:26:54.277503Z",
     "start_time": "2023-02-14T15:26:54.249578Z"
    }
   },
   "outputs": [
    {
     "name": "stdout",
     "output_type": "stream",
     "text": [
      "<class 'pandas.core.frame.DataFrame'>\n",
      "RangeIndex: 21 entries, 0 to 20\n",
      "Data columns (total 2 columns):\n",
      " #   Column        Non-Null Count  Dtype  \n",
      "---  ------        --------------  -----  \n",
      " 0   Deliver_Time  21 non-null     float64\n",
      " 1   Sorting_Time  21 non-null     float64\n",
      "dtypes: float64(2)\n",
      "memory usage: 464.0 bytes\n"
     ]
    }
   ],
   "source": [
    "# Change the data type to float\n",
    "dt_st=dt_st.astype(float)\n",
    "dt_st.info()"
   ]
  },
  {
   "cell_type": "markdown",
   "id": "6e3397fb",
   "metadata": {},
   "source": [
    "### Step-2.3 : Exploring data using Visualisation"
   ]
  },
  {
   "cell_type": "markdown",
   "id": "3fde07fb",
   "metadata": {},
   "source": [
    "#### Histogram"
   ]
  },
  {
   "cell_type": "code",
   "execution_count": 12,
   "id": "c85d1898",
   "metadata": {
    "ExecuteTime": {
     "end_time": "2023-02-14T15:26:56.235331Z",
     "start_time": "2023-02-14T15:26:54.282490Z"
    }
   },
   "outputs": [
    {
     "data": {
      "image/png": "[encoded data removed]",
      "text/plain": [
       "<Figure size 648x432 with 2 Axes>"
      ]
     },
     "metadata": {
      "needs_background": "light"
     },
     "output_type": "display_data"
    }
   ],
   "source": [
    "plt.subplots(figsize = (9,6))\n",
    "plt.subplot(1,2,1)\n",
    "plt.hist(dt_st['Deliver_Time'])\n",
    "plt.title('Deliver Time')\n",
    "plt.subplot(1,2,2)\n",
    "plt.hist(dt_st['Sorting_Time'])\n",
    "plt.title('Sorting Time')\n",
    "plt.show()"
   ]
  },
  {
   "cell_type": "markdown",
   "id": "e0d1d2ef",
   "metadata": {},
   "source": [
    "#### Boxplot"
   ]
  },
  {
   "cell_type": "code",
   "execution_count": 13,
   "id": "21780b7d",
   "metadata": {
    "ExecuteTime": {
     "end_time": "2023-02-14T15:26:56.425833Z",
     "start_time": "2023-02-14T15:26:56.237345Z"
    }
   },
   "outputs": [
    {
     "data": {
      "image/png": "[encoded data removed]",
      "text/plain": [
       "<Figure size 648x432 with 2 Axes>"
      ]
     },
     "metadata": {
      "needs_background": "light"
     },
     "output_type": "display_data"
    }
   ],
   "source": [
    "plt.subplots(figsize = (9,6))\n",
    "plt.subplot(1,2,1)\n",
    "plt.boxplot(dt_st['Deliver_Time'])\n",
    "plt.title('Deliver Time')\n",
    "plt.subplot(1,2,2)\n",
    "plt.boxplot(dt_st['Sorting_Time'])\n",
    "plt.title('Sorting Time')\n",
    "plt.show()"
   ]
  },
  {
   "cell_type": "markdown",
   "id": "8d1fe2f7",
   "metadata": {},
   "source": [
    "#### Distribution plot"
   ]
  },
  {
   "cell_type": "code",
   "execution_count": 14,
   "id": "50d27955",
   "metadata": {
    "ExecuteTime": {
     "end_time": "2023-02-14T15:27:11.720586Z",
     "start_time": "2023-02-14T15:26:56.427454Z"
    },
    "scrolled": true
   },
   "outputs": [
    {
     "data": {
      "image/png": "[encoded data removed]",
      "text/plain": [
       "<Figure size 648x432 with 1 Axes>"
      ]
     },
     "metadata": {
      "needs_background": "light"
     },
     "output_type": "display_data"
    }
   ],
   "source": [
    "plt.figure(figsize = (9,6))\n",
    "labels = ['Deliver Time', 'Sorting Time']\n",
    "sb.distplot(dt_st['Deliver_Time'])\n",
    "sb.distplot(dt_st['Sorting_Time'])\n",
    "plt.legend(labels)\n",
    "plt.show()"
   ]
  },
  {
   "cell_type": "markdown",
   "id": "014fb501",
   "metadata": {},
   "source": [
    "#### Q-Q plot"
   ]
  },
  {
   "cell_type": "code",
   "execution_count": 15,
   "id": "803d8059",
   "metadata": {
    "ExecuteTime": {
     "end_time": "2023-02-14T15:27:12.000699Z",
     "start_time": "2023-02-14T15:27:11.723213Z"
    },
    "scrolled": true
   },
   "outputs": [
    {
     "data": {
      "image/png": "[encoded data removed]",
      "text/plain": [
       "<Figure size 432x288 with 1 Axes>"
      ]
     },
     "metadata": {
      "needs_background": "light"
     },
     "output_type": "display_data"
    },
    {
     "data": {
      "image/png": "[encoded data removed]",
      "text/plain": [
       "<Figure size 432x288 with 1 Axes>"
      ]
     },
     "metadata": {
      "needs_background": "light"
     },
     "output_type": "display_data"
    }
   ],
   "source": [
    "# To check whether the data is following normal distribution\n",
    "sm.qqplot(dt_st['Deliver_Time'], line = 'q')\n",
    "plt.title('Deliver Time')\n",
    "sm.qqplot(dt_st['Sorting_Time'], line = 'q')\n",
    "plt.title('Sorting Time')\n",
    "plt.show()"
   ]
  },
  {
   "cell_type": "markdown",
   "id": "7783845b",
   "metadata": {},
   "source": [
    "#### Correlation and Heat map"
   ]
  },
  {
   "cell_type": "code",
   "execution_count": 16,
   "id": "e42dfd84",
   "metadata": {
    "ExecuteTime": {
     "end_time": "2023-02-14T15:27:12.046513Z",
     "start_time": "2023-02-14T15:27:12.003275Z"
    }
   },
   "outputs": [
    {
     "data": {
      "text/html": [
       "<div>\n",
       "<style scoped>\n",
       "    .dataframe tbody tr th:only-of-type {\n",
       "        vertical-align: middle;\n",
       "    }\n",
       "\n",
       "    .dataframe tbody tr th {\n",
       "        vertical-align: top;\n",
       "    }\n",
       "\n",
       "    .dataframe thead th {\n",
       "        text-align: right;\n",
       "    }\n",
       "</style>\n",
       "<table border=\"1\" class=\"dataframe\">\n",
       "  <thead>\n",
       "    <tr style=\"text-align: right;\">\n",
       "      <th></th>\n",
       "      <th>Deliver_Time</th>\n",
       "      <th>Sorting_Time</th>\n",
       "    </tr>\n",
       "  </thead>\n",
       "  <tbody>\n",
       "    <tr>\n",
       "      <th>Deliver_Time</th>\n",
       "      <td>1.000000</td>\n",
       "      <td>0.825997</td>\n",
       "    </tr>\n",
       "    <tr>\n",
       "      <th>Sorting_Time</th>\n",
       "      <td>0.825997</td>\n",
       "      <td>1.000000</td>\n",
       "    </tr>\n",
       "  </tbody>\n",
       "</table>\n",
       "</div>"
      ],
      "text/plain": [
       "              Deliver_Time  Sorting_Time\n",
       "Deliver_Time      1.000000      0.825997\n",
       "Sorting_Time      0.825997      1.000000"
      ]
     },
     "execution_count": 16,
     "metadata": {},
     "output_type": "execute_result"
    }
   ],
   "source": [
    "# Checking for Correlation between variables\n",
    "dt_st.corr()"
   ]
  },
  {
   "cell_type": "code",
   "execution_count": 17,
   "id": "d5eb6640",
   "metadata": {
    "ExecuteTime": {
     "end_time": "2023-02-14T15:27:12.219777Z",
     "start_time": "2023-02-14T15:27:12.048496Z"
    }
   },
   "outputs": [
    {
     "data": {
      "image/png": "[encoded data removed]",
      "text/plain": [
       "<Figure size 432x288 with 2 Axes>"
      ]
     },
     "metadata": {
      "needs_background": "light"
     },
     "output_type": "display_data"
    }
   ],
   "source": [
    "sb.heatmap(dt_st.corr(),annot=True)\n",
    "plt.show()"
   ]
  },
  {
   "cell_type": "code",
   "execution_count": 18,
   "id": "51eef4b5",
   "metadata": {
    "ExecuteTime": {
     "end_time": "2023-02-14T15:27:13.336560Z",
     "start_time": "2023-02-14T15:27:12.221775Z"
    },
    "scrolled": true
   },
   "outputs": [
    {
     "data": {
      "image/png": "[encoded data removed]",
      "text/plain": [
       "<Figure size 432x288 with 1 Axes>"
      ]
     },
     "metadata": {
      "needs_background": "light"
     },
     "output_type": "display_data"
    }
   ],
   "source": [
    "sb.regplot(x=dt_st['Sorting_Time'],y=dt_st['Deliver_Time'])\n",
    "plt.show()"
   ]
  },
  {
   "cell_type": "code",
   "execution_count": 19,
   "id": "46b1861f",
   "metadata": {
    "ExecuteTime": {
     "end_time": "2023-02-14T15:27:13.353152Z",
     "start_time": "2023-02-14T15:27:13.339177Z"
    }
   },
   "outputs": [],
   "source": [
    "# There is a good correlation between two variables.\n",
    "# The correlation value is more than 0.8 which represents that the variables are strongly related."
   ]
  },
  {
   "cell_type": "markdown",
   "id": "4eae76b6",
   "metadata": {
    "ExecuteTime": {
     "end_time": "2022-10-13T10:27:50.557483Z",
     "start_time": "2022-10-13T10:27:50.543361Z"
    }
   },
   "source": [
    "### Step-3 : Build a Simple Linear Regeression model"
   ]
  },
  {
   "cell_type": "markdown",
   "id": "a75cdde9",
   "metadata": {},
   "source": [
    "### Step-3.1 : Fitting the model"
   ]
  },
  {
   "cell_type": "code",
   "execution_count": 20,
   "id": "59cdcf70",
   "metadata": {
    "ExecuteTime": {
     "end_time": "2023-02-14T15:27:13.493114Z",
     "start_time": "2023-02-14T15:27:13.355140Z"
    },
    "scrolled": true
   },
   "outputs": [],
   "source": [
    "# The Simple Linear regression equation is dt=βo+β1(st).\n",
    "# Using the following code we build a Simple linear regression model, which predicts the deliver time for given sorting time\n",
    "model=smf.ols(\"Deliver_Time~Sorting_Time\",data=dt_st).fit()"
   ]
  },
  {
   "cell_type": "markdown",
   "id": "f51c1fb3",
   "metadata": {},
   "source": [
    "#### Printing Estimated Parameters"
   ]
  },
  {
   "cell_type": "code",
   "execution_count": 21,
   "id": "bcfb8e25",
   "metadata": {
    "ExecuteTime": {
     "end_time": "2023-02-14T15:27:13.523057Z",
     "start_time": "2023-02-14T15:27:13.501084Z"
    }
   },
   "outputs": [
    {
     "data": {
      "text/plain": [
       "Intercept       6.582734\n",
       "Sorting_Time    1.649020\n",
       "dtype: float64"
      ]
     },
     "execution_count": 21,
     "metadata": {},
     "output_type": "execute_result"
    }
   ],
   "source": [
    "# We get values of βo,β1\n",
    "model.params"
   ]
  },
  {
   "cell_type": "markdown",
   "id": "5745e7af",
   "metadata": {},
   "source": [
    "### Step-4 : Model Diagnostics"
   ]
  },
  {
   "cell_type": "markdown",
   "id": "8438e45e",
   "metadata": {},
   "source": [
    "#### Residuals"
   ]
  },
  {
   "cell_type": "code",
   "execution_count": 22,
   "id": "32625811",
   "metadata": {
    "ExecuteTime": {
     "end_time": "2023-02-14T15:27:13.554740Z",
     "start_time": "2023-02-14T15:27:13.526012Z"
    }
   },
   "outputs": [
    {
     "data": {
      "text/plain": [
       "0    -2.072933\n",
       "1     0.321186\n",
       "2     3.273147\n",
       "3     2.576087\n",
       "4     5.927067\n",
       "5    -1.126853\n",
       "6     0.874127\n",
       "7    -2.029794\n",
       "8    -5.172933\n",
       "9    -2.673913\n",
       "10    0.055107\n",
       "11   -2.428814\n",
       "12   -1.445873\n",
       "13   -0.029794\n",
       "14    0.500206\n",
       "15    1.701186\n",
       "16   -2.726853\n",
       "17   -0.015873\n",
       "18   -1.880774\n",
       "19   -0.295873\n",
       "20    6.672167\n",
       "dtype: float64"
      ]
     },
     "execution_count": 22,
     "metadata": {},
     "output_type": "execute_result"
    }
   ],
   "source": [
    "# Residuals or errors of the model for each observation. Error = Actual value - Predicted value\n",
    "model.resid"
   ]
  },
  {
   "cell_type": "code",
   "execution_count": 23,
   "id": "1c6bebb0",
   "metadata": {
    "ExecuteTime": {
     "end_time": "2023-02-14T15:27:13.570296Z",
     "start_time": "2023-02-14T15:27:13.556778Z"
    },
    "scrolled": true
   },
   "outputs": [
    {
     "data": {
      "text/plain": [
       "array([-0.70630355,  0.10943679,  1.11524837,  0.87774154,  2.01950985,\n",
       "       -0.383949  ,  0.2978383 , -0.69160484, -1.76255624, -0.9110735 ,\n",
       "        0.01877637, -0.82756157, -0.49264758, -0.0101515 ,  0.17043364,\n",
       "        0.5796396 , -0.92911167, -0.00540844, -0.64082979, -0.10081191,\n",
       "        2.27338512])"
      ]
     },
     "execution_count": 23,
     "metadata": {},
     "output_type": "execute_result"
    }
   ],
   "source": [
    "# Standardised residuals\n",
    "model.resid_pearson"
   ]
  },
  {
   "cell_type": "markdown",
   "id": "681e95d1",
   "metadata": {},
   "source": [
    "#### Predicted values"
   ]
  },
  {
   "cell_type": "code",
   "execution_count": 24,
   "id": "caa09090",
   "metadata": {
    "ExecuteTime": {
     "end_time": "2023-02-14T15:27:13.600556Z",
     "start_time": "2023-02-14T15:27:13.572248Z"
    }
   },
   "outputs": [
    {
     "data": {
      "text/plain": [
       "0     23.072933\n",
       "1     13.178814\n",
       "2     16.476853\n",
       "3     21.423913\n",
       "4     23.072933\n",
       "5     16.476853\n",
       "6     18.125873\n",
       "7     11.529794\n",
       "8     23.072933\n",
       "9     21.423913\n",
       "10    19.774893\n",
       "11    13.178814\n",
       "12    18.125873\n",
       "13    11.529794\n",
       "14    11.529794\n",
       "15    13.178814\n",
       "16    16.476853\n",
       "17    18.125873\n",
       "18     9.880774\n",
       "19    18.125873\n",
       "20    14.827833\n",
       "dtype: float64"
      ]
     },
     "execution_count": 24,
     "metadata": {},
     "output_type": "execute_result"
    }
   ],
   "source": [
    "pred=model.predict(dt_st)\n",
    "pred"
   ]
  },
  {
   "cell_type": "markdown",
   "id": "627d2705",
   "metadata": {},
   "source": [
    "#### Scatter plot"
   ]
  },
  {
   "cell_type": "code",
   "execution_count": 25,
   "id": "8aa96c44",
   "metadata": {
    "ExecuteTime": {
     "end_time": "2023-02-14T15:27:13.881434Z",
     "start_time": "2023-02-14T15:27:13.602554Z"
    },
    "scrolled": true
   },
   "outputs": [
    {
     "data": {
      "image/png": "[encoded data removed]",
      "text/plain": [
       "<Figure size 432x288 with 1 Axes>"
      ]
     },
     "metadata": {
      "needs_background": "light"
     },
     "output_type": "display_data"
    }
   ],
   "source": [
    "# Scatter plot between Sorting Time-Deliver Time & Sorting Time-Predicted Deliver Time\n",
    "plt.scatter(dt_st.Sorting_Time,dt_st.Deliver_Time,c=\"b\")\n",
    "plt.plot(dt_st.Sorting_Time,pred,\"r\")\n",
    "plt.show()"
   ]
  },
  {
   "cell_type": "markdown",
   "id": "26d3d12e",
   "metadata": {},
   "source": [
    "#### Overall Summary"
   ]
  },
  {
   "cell_type": "code",
   "execution_count": 26,
   "id": "bf12b9b2",
   "metadata": {
    "ExecuteTime": {
     "end_time": "2023-02-14T15:27:14.020344Z",
     "start_time": "2023-02-14T15:27:13.884016Z"
    },
    "scrolled": true
   },
   "outputs": [
    {
     "data": {
      "text/html": [
       "<table class=\"simpletable\">\n",
       "<caption>OLS Regression Results</caption>\n",
       "<tr>\n",
       "  <th>Dep. Variable:</th>      <td>Deliver_Time</td>   <th>  R-squared:         </th> <td>   0.682</td>\n",
       "</tr>\n",
       "<tr>\n",
       "  <th>Model:</th>                   <td>OLS</td>       <th>  Adj. R-squared:    </th> <td>   0.666</td>\n",
       "</tr>\n",
       "<tr>\n",
       "  <th>Method:</th>             <td>Least Squares</td>  <th>  F-statistic:       </th> <td>   40.80</td>\n",
       "</tr>\n",
       "<tr>\n",
       "  <th>Date:</th>             <td>Tue, 14 Feb 2023</td> <th>  Prob (F-statistic):</th> <td>3.98e-06</td>\n",
       "</tr>\n",
       "<tr>\n",
       "  <th>Time:</th>                 <td>20:57:13</td>     <th>  Log-Likelihood:    </th> <td> -51.357</td>\n",
       "</tr>\n",
       "<tr>\n",
       "  <th>No. Observations:</th>      <td>    21</td>      <th>  AIC:               </th> <td>   106.7</td>\n",
       "</tr>\n",
       "<tr>\n",
       "  <th>Df Residuals:</th>          <td>    19</td>      <th>  BIC:               </th> <td>   108.8</td>\n",
       "</tr>\n",
       "<tr>\n",
       "  <th>Df Model:</th>              <td>     1</td>      <th>                     </th>     <td> </td>   \n",
       "</tr>\n",
       "<tr>\n",
       "  <th>Covariance Type:</th>      <td>nonrobust</td>    <th>                     </th>     <td> </td>   \n",
       "</tr>\n",
       "</table>\n",
       "<table class=\"simpletable\">\n",
       "<tr>\n",
       "        <td></td>          <th>coef</th>     <th>std err</th>      <th>t</th>      <th>P>|t|</th>  <th>[0.025</th>    <th>0.975]</th>  \n",
       "</tr>\n",
       "<tr>\n",
       "  <th>Intercept</th>    <td>    6.5827</td> <td>    1.722</td> <td>    3.823</td> <td> 0.001</td> <td>    2.979</td> <td>   10.186</td>\n",
       "</tr>\n",
       "<tr>\n",
       "  <th>Sorting_Time</th> <td>    1.6490</td> <td>    0.258</td> <td>    6.387</td> <td> 0.000</td> <td>    1.109</td> <td>    2.189</td>\n",
       "</tr>\n",
       "</table>\n",
       "<table class=\"simpletable\">\n",
       "<tr>\n",
       "  <th>Omnibus:</th>       <td> 3.649</td> <th>  Durbin-Watson:     </th> <td>   1.248</td>\n",
       "</tr>\n",
       "<tr>\n",
       "  <th>Prob(Omnibus):</th> <td> 0.161</td> <th>  Jarque-Bera (JB):  </th> <td>   2.086</td>\n",
       "</tr>\n",
       "<tr>\n",
       "  <th>Skew:</th>          <td> 0.750</td> <th>  Prob(JB):          </th> <td>   0.352</td>\n",
       "</tr>\n",
       "<tr>\n",
       "  <th>Kurtosis:</th>      <td> 3.367</td> <th>  Cond. No.          </th> <td>    18.3</td>\n",
       "</tr>\n",
       "</table><br/><br/>Notes:<br/>[1] Standard Errors assume that the covariance matrix of the errors is correctly specified."
      ],
      "text/plain": [
       "<class 'statsmodels.iolib.summary.Summary'>\n",
       "\"\"\"\n",
       "                            OLS Regression Results                            \n",
       "==============================================================================\n",
       "Dep. Variable:           Deliver_Time   R-squared:                       0.682\n",
       "Model:                            OLS   Adj. R-squared:                  0.666\n",
       "Method:                 Least Squares   F-statistic:                     40.80\n",
       "Date:                Tue, 14 Feb 2023   Prob (F-statistic):           3.98e-06\n",
       "Time:                        20:57:13   Log-Likelihood:                -51.357\n",
       "No. Observations:                  21   AIC:                             106.7\n",
       "Df Residuals:                      19   BIC:                             108.8\n",
       "Df Model:                           1                                         \n",
       "Covariance Type:            nonrobust                                         \n",
       "================================================================================\n",
       "                   coef    std err          t      P>|t|      [0.025      0.975]\n",
       "--------------------------------------------------------------------------------\n",
       "Intercept        6.5827      1.722      3.823      0.001       2.979      10.186\n",
       "Sorting_Time     1.6490      0.258      6.387      0.000       1.109       2.189\n",
       "==============================================================================\n",
       "Omnibus:                        3.649   Durbin-Watson:                   1.248\n",
       "Prob(Omnibus):                  0.161   Jarque-Bera (JB):                2.086\n",
       "Skew:                           0.750   Prob(JB):                        0.352\n",
       "Kurtosis:                       3.367   Cond. No.                         18.3\n",
       "==============================================================================\n",
       "\n",
       "Notes:\n",
       "[1] Standard Errors assume that the covariance matrix of the errors is correctly specified.\n",
       "\"\"\""
      ]
     },
     "execution_count": 26,
     "metadata": {},
     "output_type": "execute_result"
    }
   ],
   "source": [
    "model.summary()"
   ]
  },
  {
   "cell_type": "markdown",
   "id": "cef6b260",
   "metadata": {},
   "source": [
    "#### Root Mean Square Error(RMSE)"
   ]
  },
  {
   "cell_type": "code",
   "execution_count": 27,
   "id": "de3b04ce",
   "metadata": {
    "ExecuteTime": {
     "end_time": "2023-02-14T15:27:14.036299Z",
     "start_time": "2023-02-14T15:27:14.024331Z"
    }
   },
   "outputs": [
    {
     "data": {
      "text/plain": [
       "2.7916503270617654"
      ]
     },
     "execution_count": 27,
     "metadata": {},
     "output_type": "execute_result"
    }
   ],
   "source": [
    "rmse = np.sqrt(np.mean(model.resid**2))\n",
    "rmse"
   ]
  },
  {
   "cell_type": "markdown",
   "id": "59acc480",
   "metadata": {
    "ExecuteTime": {
     "end_time": "2022-10-21T17:54:23.827920Z",
     "start_time": "2022-10-21T17:54:23.800990Z"
    }
   },
   "source": [
    "#### From the Summary, we can see that the R² value is less. So the accuracy of the model is low.\n",
    "#### The Root Mean Square Error value is high.\n",
    "#### So in order to improve the accuracy of the model and decrease the RMSE value, apply transformations."
   ]
  },
  {
   "cell_type": "markdown",
   "id": "3752ead2",
   "metadata": {},
   "source": [
    "### Step-5 : Apply Transformations to the model"
   ]
  },
  {
   "cell_type": "markdown",
   "id": "f99878ee",
   "metadata": {},
   "source": [
    "### Step-5.1 : Logarithmic Transformation"
   ]
  },
  {
   "cell_type": "code",
   "execution_count": 28,
   "id": "83664dff",
   "metadata": {
    "ExecuteTime": {
     "end_time": "2023-02-14T15:27:14.052586Z",
     "start_time": "2023-02-14T15:27:14.041291Z"
    }
   },
   "outputs": [],
   "source": [
    "# The logarithmic transformation Simple linear regression model equation is dt=βo+β1(log(st)).\n",
    "model_1 = smf.ols(\"Deliver_Time~np.log(Sorting_Time)\", data=dt_st).fit()"
   ]
  },
  {
   "cell_type": "code",
   "execution_count": 29,
   "id": "23273aac",
   "metadata": {
    "ExecuteTime": {
     "end_time": "2023-02-14T15:27:14.082750Z",
     "start_time": "2023-02-14T15:27:14.055254Z"
    }
   },
   "outputs": [
    {
     "data": {
      "text/plain": [
       "0     21.982913\n",
       "1     13.696517\n",
       "2     17.363305\n",
       "3     21.030094\n",
       "4     21.982913\n",
       "5     17.363305\n",
       "6     18.757354\n",
       "7     11.094889\n",
       "8     21.982913\n",
       "9     21.030094\n",
       "10    19.964933\n",
       "11    13.696517\n",
       "12    18.757354\n",
       "13    11.094889\n",
       "14    11.094889\n",
       "15    13.696517\n",
       "16    17.363305\n",
       "17    18.757354\n",
       "18     7.428100\n",
       "19    18.757354\n",
       "20    15.714496\n",
       "dtype: float64"
      ]
     },
     "execution_count": 29,
     "metadata": {},
     "output_type": "execute_result"
    }
   ],
   "source": [
    "pred_1 = model_1.predict(dt_st)\n",
    "pred_1"
   ]
  },
  {
   "cell_type": "code",
   "execution_count": 30,
   "id": "1432e0b3",
   "metadata": {
    "ExecuteTime": {
     "end_time": "2023-02-14T15:27:14.270381Z",
     "start_time": "2023-02-14T15:27:14.086738Z"
    }
   },
   "outputs": [
    {
     "data": {
      "image/png": "[encoded data removed]",
      "text/plain": [
       "<Figure size 432x288 with 1 Axes>"
      ]
     },
     "metadata": {
      "needs_background": "light"
     },
     "output_type": "display_data"
    }
   ],
   "source": [
    "plt.scatter(dt_st.Sorting_Time,dt_st.Deliver_Time,c=\"b\")\n",
    "plt.plot(dt_st.Sorting_Time,pred_1,\"r\")\n",
    "plt.show()"
   ]
  },
  {
   "cell_type": "code",
   "execution_count": 31,
   "id": "a60bdd7a",
   "metadata": {
    "ExecuteTime": {
     "end_time": "2023-02-14T15:27:14.301970Z",
     "start_time": "2023-02-14T15:27:14.272376Z"
    }
   },
   "outputs": [
    {
     "data": {
      "text/html": [
       "<table class=\"simpletable\">\n",
       "<caption>OLS Regression Results</caption>\n",
       "<tr>\n",
       "  <th>Dep. Variable:</th>      <td>Deliver_Time</td>   <th>  R-squared:         </th> <td>   0.695</td>\n",
       "</tr>\n",
       "<tr>\n",
       "  <th>Model:</th>                   <td>OLS</td>       <th>  Adj. R-squared:    </th> <td>   0.679</td>\n",
       "</tr>\n",
       "<tr>\n",
       "  <th>Method:</th>             <td>Least Squares</td>  <th>  F-statistic:       </th> <td>   43.39</td>\n",
       "</tr>\n",
       "<tr>\n",
       "  <th>Date:</th>             <td>Tue, 14 Feb 2023</td> <th>  Prob (F-statistic):</th> <td>2.64e-06</td>\n",
       "</tr>\n",
       "<tr>\n",
       "  <th>Time:</th>                 <td>20:57:14</td>     <th>  Log-Likelihood:    </th> <td> -50.912</td>\n",
       "</tr>\n",
       "<tr>\n",
       "  <th>No. Observations:</th>      <td>    21</td>      <th>  AIC:               </th> <td>   105.8</td>\n",
       "</tr>\n",
       "<tr>\n",
       "  <th>Df Residuals:</th>          <td>    19</td>      <th>  BIC:               </th> <td>   107.9</td>\n",
       "</tr>\n",
       "<tr>\n",
       "  <th>Df Model:</th>              <td>     1</td>      <th>                     </th>     <td> </td>   \n",
       "</tr>\n",
       "<tr>\n",
       "  <th>Covariance Type:</th>      <td>nonrobust</td>    <th>                     </th>     <td> </td>   \n",
       "</tr>\n",
       "</table>\n",
       "<table class=\"simpletable\">\n",
       "<tr>\n",
       "            <td></td>              <th>coef</th>     <th>std err</th>      <th>t</th>      <th>P>|t|</th>  <th>[0.025</th>    <th>0.975]</th>  \n",
       "</tr>\n",
       "<tr>\n",
       "  <th>Intercept</th>            <td>    1.1597</td> <td>    2.455</td> <td>    0.472</td> <td> 0.642</td> <td>   -3.978</td> <td>    6.297</td>\n",
       "</tr>\n",
       "<tr>\n",
       "  <th>np.log(Sorting_Time)</th> <td>    9.0434</td> <td>    1.373</td> <td>    6.587</td> <td> 0.000</td> <td>    6.170</td> <td>   11.917</td>\n",
       "</tr>\n",
       "</table>\n",
       "<table class=\"simpletable\">\n",
       "<tr>\n",
       "  <th>Omnibus:</th>       <td> 5.552</td> <th>  Durbin-Watson:     </th> <td>   1.427</td>\n",
       "</tr>\n",
       "<tr>\n",
       "  <th>Prob(Omnibus):</th> <td> 0.062</td> <th>  Jarque-Bera (JB):  </th> <td>   3.481</td>\n",
       "</tr>\n",
       "<tr>\n",
       "  <th>Skew:</th>          <td> 0.946</td> <th>  Prob(JB):          </th> <td>   0.175</td>\n",
       "</tr>\n",
       "<tr>\n",
       "  <th>Kurtosis:</th>      <td> 3.628</td> <th>  Cond. No.          </th> <td>    9.08</td>\n",
       "</tr>\n",
       "</table><br/><br/>Notes:<br/>[1] Standard Errors assume that the covariance matrix of the errors is correctly specified."
      ],
      "text/plain": [
       "<class 'statsmodels.iolib.summary.Summary'>\n",
       "\"\"\"\n",
       "                            OLS Regression Results                            \n",
       "==============================================================================\n",
       "Dep. Variable:           Deliver_Time   R-squared:                       0.695\n",
       "Model:                            OLS   Adj. R-squared:                  0.679\n",
       "Method:                 Least Squares   F-statistic:                     43.39\n",
       "Date:                Tue, 14 Feb 2023   Prob (F-statistic):           2.64e-06\n",
       "Time:                        20:57:14   Log-Likelihood:                -50.912\n",
       "No. Observations:                  21   AIC:                             105.8\n",
       "Df Residuals:                      19   BIC:                             107.9\n",
       "Df Model:                           1                                         \n",
       "Covariance Type:            nonrobust                                         \n",
       "========================================================================================\n",
       "                           coef    std err          t      P>|t|      [0.025      0.975]\n",
       "----------------------------------------------------------------------------------------\n",
       "Intercept                1.1597      2.455      0.472      0.642      -3.978       6.297\n",
       "np.log(Sorting_Time)     9.0434      1.373      6.587      0.000       6.170      11.917\n",
       "==============================================================================\n",
       "Omnibus:                        5.552   Durbin-Watson:                   1.427\n",
       "Prob(Omnibus):                  0.062   Jarque-Bera (JB):                3.481\n",
       "Skew:                           0.946   Prob(JB):                        0.175\n",
       "Kurtosis:                       3.628   Cond. No.                         9.08\n",
       "==============================================================================\n",
       "\n",
       "Notes:\n",
       "[1] Standard Errors assume that the covariance matrix of the errors is correctly specified.\n",
       "\"\"\""
      ]
     },
     "execution_count": 31,
     "metadata": {},
     "output_type": "execute_result"
    }
   ],
   "source": [
    "# Overall Summary\n",
    "model_1.summary()"
   ]
  },
  {
   "cell_type": "code",
   "execution_count": 32,
   "id": "92c19c0e",
   "metadata": {
    "ExecuteTime": {
     "end_time": "2023-02-14T15:27:14.318398Z",
     "start_time": "2023-02-14T15:27:14.303966Z"
    }
   },
   "outputs": [
    {
     "data": {
      "text/plain": [
       "2.733171476682066"
      ]
     },
     "execution_count": 32,
     "metadata": {},
     "output_type": "execute_result"
    }
   ],
   "source": [
    "# Root Mean Square Error(RMSE)\n",
    "rmse_1 = np.sqrt(np.mean(model_1.resid**2))\n",
    "rmse_1"
   ]
  },
  {
   "cell_type": "markdown",
   "id": "2041f7a7",
   "metadata": {
    "ExecuteTime": {
     "end_time": "2022-10-21T17:54:24.184166Z",
     "start_time": "2022-10-21T17:54:24.157240Z"
    }
   },
   "source": [
    "#### The R² value is improved and the RMSE value decreased.\n",
    "#### However all the transformations have to applied and the model with best R² value and low RMSE is to be choosen."
   ]
  },
  {
   "cell_type": "markdown",
   "id": "822a6a84",
   "metadata": {},
   "source": [
    "### Step-5.2 : Exponential Transformation"
   ]
  },
  {
   "cell_type": "code",
   "execution_count": 33,
   "id": "0976c09b",
   "metadata": {
    "ExecuteTime": {
     "end_time": "2023-02-14T15:27:14.348889Z",
     "start_time": "2023-02-14T15:27:14.319922Z"
    }
   },
   "outputs": [],
   "source": [
    "# The Exponential transformation Simple linear regression model equation is log(dt)=βo+β1(st).\n",
    "model_2 = smf.ols(\"np.log(Deliver_Time)~Sorting_Time\", data=dt_st).fit()"
   ]
  },
  {
   "cell_type": "code",
   "execution_count": 34,
   "id": "c7f8495a",
   "metadata": {
    "ExecuteTime": {
     "end_time": "2023-02-14T15:27:14.379763Z",
     "start_time": "2023-02-14T15:27:14.351841Z"
    }
   },
   "outputs": [
    {
     "data": {
      "text/plain": [
       "0     23.972032\n",
       "1     12.725123\n",
       "2     15.716034\n",
       "3     21.570707\n",
       "4     23.972032\n",
       "5     15.716034\n",
       "6     17.465597\n",
       "7     11.450423\n",
       "8     23.972032\n",
       "9     21.570707\n",
       "10    19.409927\n",
       "11    12.725123\n",
       "12    17.465597\n",
       "13    11.450423\n",
       "14    11.450423\n",
       "15    12.725123\n",
       "16    15.716034\n",
       "17    17.465597\n",
       "18    10.303411\n",
       "19    17.465597\n",
       "20    14.141728\n",
       "dtype: float64"
      ]
     },
     "execution_count": 34,
     "metadata": {},
     "output_type": "execute_result"
    }
   ],
   "source": [
    "# Convert predicted log values into predicted values\n",
    "pred_2log = model_2.predict(dt_st)\n",
    "pred_2 = np.exp(pred_2log)\n",
    "pred_2"
   ]
  },
  {
   "cell_type": "code",
   "execution_count": 35,
   "id": "725794d1",
   "metadata": {
    "ExecuteTime": {
     "end_time": "2023-02-14T15:27:14.568655Z",
     "start_time": "2023-02-14T15:27:14.381742Z"
    }
   },
   "outputs": [
    {
     "data": {
      "image/png": "[encoded data removed]",
      "text/plain": [
       "<Figure size 432x288 with 1 Axes>"
      ]
     },
     "metadata": {
      "needs_background": "light"
     },
     "output_type": "display_data"
    }
   ],
   "source": [
    "plt.scatter(dt_st.Sorting_Time,dt_st.Deliver_Time,c=\"b\")\n",
    "plt.plot(dt_st.Sorting_Time,pred_2,\"r\")\n",
    "plt.show()"
   ]
  },
  {
   "cell_type": "code",
   "execution_count": 36,
   "id": "ceb264aa",
   "metadata": {
    "ExecuteTime": {
     "end_time": "2023-02-14T15:27:14.598784Z",
     "start_time": "2023-02-14T15:27:14.570609Z"
    }
   },
   "outputs": [
    {
     "data": {
      "text/html": [
       "<table class=\"simpletable\">\n",
       "<caption>OLS Regression Results</caption>\n",
       "<tr>\n",
       "  <th>Dep. Variable:</th>    <td>np.log(Deliver_Time)</td> <th>  R-squared:         </th> <td>   0.711</td>\n",
       "</tr>\n",
       "<tr>\n",
       "  <th>Model:</th>                     <td>OLS</td>         <th>  Adj. R-squared:    </th> <td>   0.696</td>\n",
       "</tr>\n",
       "<tr>\n",
       "  <th>Method:</th>               <td>Least Squares</td>    <th>  F-statistic:       </th> <td>   46.73</td>\n",
       "</tr>\n",
       "<tr>\n",
       "  <th>Date:</th>               <td>Tue, 14 Feb 2023</td>   <th>  Prob (F-statistic):</th> <td>1.59e-06</td>\n",
       "</tr>\n",
       "<tr>\n",
       "  <th>Time:</th>                   <td>20:57:14</td>       <th>  Log-Likelihood:    </th> <td>  7.7920</td>\n",
       "</tr>\n",
       "<tr>\n",
       "  <th>No. Observations:</th>        <td>    21</td>        <th>  AIC:               </th> <td>  -11.58</td>\n",
       "</tr>\n",
       "<tr>\n",
       "  <th>Df Residuals:</th>            <td>    19</td>        <th>  BIC:               </th> <td>  -9.495</td>\n",
       "</tr>\n",
       "<tr>\n",
       "  <th>Df Model:</th>                <td>     1</td>        <th>                     </th>     <td> </td>   \n",
       "</tr>\n",
       "<tr>\n",
       "  <th>Covariance Type:</th>        <td>nonrobust</td>      <th>                     </th>     <td> </td>   \n",
       "</tr>\n",
       "</table>\n",
       "<table class=\"simpletable\">\n",
       "<tr>\n",
       "        <td></td>          <th>coef</th>     <th>std err</th>      <th>t</th>      <th>P>|t|</th>  <th>[0.025</th>    <th>0.975]</th>  \n",
       "</tr>\n",
       "<tr>\n",
       "  <th>Intercept</th>    <td>    2.1214</td> <td>    0.103</td> <td>   20.601</td> <td> 0.000</td> <td>    1.906</td> <td>    2.337</td>\n",
       "</tr>\n",
       "<tr>\n",
       "  <th>Sorting_Time</th> <td>    0.1056</td> <td>    0.015</td> <td>    6.836</td> <td> 0.000</td> <td>    0.073</td> <td>    0.138</td>\n",
       "</tr>\n",
       "</table>\n",
       "<table class=\"simpletable\">\n",
       "<tr>\n",
       "  <th>Omnibus:</th>       <td> 1.238</td> <th>  Durbin-Watson:     </th> <td>   1.325</td>\n",
       "</tr>\n",
       "<tr>\n",
       "  <th>Prob(Omnibus):</th> <td> 0.538</td> <th>  Jarque-Bera (JB):  </th> <td>   0.544</td>\n",
       "</tr>\n",
       "<tr>\n",
       "  <th>Skew:</th>          <td> 0.393</td> <th>  Prob(JB):          </th> <td>   0.762</td>\n",
       "</tr>\n",
       "<tr>\n",
       "  <th>Kurtosis:</th>      <td> 3.067</td> <th>  Cond. No.          </th> <td>    18.3</td>\n",
       "</tr>\n",
       "</table><br/><br/>Notes:<br/>[1] Standard Errors assume that the covariance matrix of the errors is correctly specified."
      ],
      "text/plain": [
       "<class 'statsmodels.iolib.summary.Summary'>\n",
       "\"\"\"\n",
       "                             OLS Regression Results                             \n",
       "================================================================================\n",
       "Dep. Variable:     np.log(Deliver_Time)   R-squared:                       0.711\n",
       "Model:                              OLS   Adj. R-squared:                  0.696\n",
       "Method:                   Least Squares   F-statistic:                     46.73\n",
       "Date:                  Tue, 14 Feb 2023   Prob (F-statistic):           1.59e-06\n",
       "Time:                          20:57:14   Log-Likelihood:                 7.7920\n",
       "No. Observations:                    21   AIC:                            -11.58\n",
       "Df Residuals:                        19   BIC:                            -9.495\n",
       "Df Model:                             1                                         \n",
       "Covariance Type:              nonrobust                                         \n",
       "================================================================================\n",
       "                   coef    std err          t      P>|t|      [0.025      0.975]\n",
       "--------------------------------------------------------------------------------\n",
       "Intercept        2.1214      0.103     20.601      0.000       1.906       2.337\n",
       "Sorting_Time     0.1056      0.015      6.836      0.000       0.073       0.138\n",
       "==============================================================================\n",
       "Omnibus:                        1.238   Durbin-Watson:                   1.325\n",
       "Prob(Omnibus):                  0.538   Jarque-Bera (JB):                0.544\n",
       "Skew:                           0.393   Prob(JB):                        0.762\n",
       "Kurtosis:                       3.067   Cond. No.                         18.3\n",
       "==============================================================================\n",
       "\n",
       "Notes:\n",
       "[1] Standard Errors assume that the covariance matrix of the errors is correctly specified.\n",
       "\"\"\""
      ]
     },
     "execution_count": 36,
     "metadata": {},
     "output_type": "execute_result"
    }
   ],
   "source": [
    "# Overall Summary\n",
    "model_2.summary()"
   ]
  },
  {
   "cell_type": "code",
   "execution_count": 37,
   "id": "e061c792",
   "metadata": {
    "ExecuteTime": {
     "end_time": "2023-02-14T15:27:14.629874Z",
     "start_time": "2023-02-14T15:27:14.605763Z"
    }
   },
   "outputs": [
    {
     "data": {
      "text/plain": [
       "2.940250323056201"
      ]
     },
     "execution_count": 37,
     "metadata": {},
     "output_type": "execute_result"
    }
   ],
   "source": [
    "# Root Mean Square Error(RMSE)\n",
    "rmse_2 = np.sqrt(np.mean((dt_st.Deliver_Time-pred_2)**2))\n",
    "rmse_2"
   ]
  },
  {
   "cell_type": "markdown",
   "id": "dafbe42e",
   "metadata": {
    "ExecuteTime": {
     "end_time": "2022-10-21T17:54:24.538296Z",
     "start_time": "2022-10-21T17:54:24.523818Z"
    }
   },
   "source": [
    "#### The R² value is improved, but the RMSE value increased."
   ]
  },
  {
   "cell_type": "markdown",
   "id": "29fb93df",
   "metadata": {},
   "source": [
    "### Step-5.3 : Quadratic transformation"
   ]
  },
  {
   "cell_type": "code",
   "execution_count": 38,
   "id": "60fc7c4a",
   "metadata": {
    "ExecuteTime": {
     "end_time": "2023-02-14T15:27:14.660669Z",
     "start_time": "2023-02-14T15:27:14.631871Z"
    }
   },
   "outputs": [],
   "source": [
    "model_3 = smf.ols(\"Deliver_Time~Sorting_Time+np.power(Sorting_Time,2)\",data=dt_st).fit()"
   ]
  },
  {
   "cell_type": "code",
   "execution_count": 39,
   "id": "3c48b4e8",
   "metadata": {
    "ExecuteTime": {
     "end_time": "2023-02-14T15:27:14.706606Z",
     "start_time": "2023-02-14T15:27:14.668659Z"
    },
    "scrolled": true
   },
   "outputs": [
    {
     "data": {
      "text/html": [
       "<div>\n",
       "<style scoped>\n",
       "    .dataframe tbody tr th:only-of-type {\n",
       "        vertical-align: middle;\n",
       "    }\n",
       "\n",
       "    .dataframe tbody tr th {\n",
       "        vertical-align: top;\n",
       "    }\n",
       "\n",
       "    .dataframe thead th {\n",
       "        text-align: right;\n",
       "    }\n",
       "</style>\n",
       "<table border=\"1\" class=\"dataframe\">\n",
       "  <thead>\n",
       "    <tr style=\"text-align: right;\">\n",
       "      <th></th>\n",
       "      <th>Deliver_Time</th>\n",
       "      <th>Sorting_Time</th>\n",
       "      <th>pred</th>\n",
       "    </tr>\n",
       "  </thead>\n",
       "  <tbody>\n",
       "    <tr>\n",
       "      <th>0</th>\n",
       "      <td>21.00</td>\n",
       "      <td>10.0</td>\n",
       "      <td>4.998629e+09</td>\n",
       "    </tr>\n",
       "    <tr>\n",
       "      <th>1</th>\n",
       "      <td>13.50</td>\n",
       "      <td>4.0</td>\n",
       "      <td>5.871697e+05</td>\n",
       "    </tr>\n",
       "    <tr>\n",
       "      <th>2</th>\n",
       "      <td>19.75</td>\n",
       "      <td>6.0</td>\n",
       "      <td>2.526949e+07</td>\n",
       "    </tr>\n",
       "    <tr>\n",
       "      <th>3</th>\n",
       "      <td>24.00</td>\n",
       "      <td>9.0</td>\n",
       "      <td>1.762843e+09</td>\n",
       "    </tr>\n",
       "    <tr>\n",
       "      <th>4</th>\n",
       "      <td>29.00</td>\n",
       "      <td>10.0</td>\n",
       "      <td>4.998629e+09</td>\n",
       "    </tr>\n",
       "    <tr>\n",
       "      <th>5</th>\n",
       "      <td>15.35</td>\n",
       "      <td>6.0</td>\n",
       "      <td>2.526949e+07</td>\n",
       "    </tr>\n",
       "    <tr>\n",
       "      <th>6</th>\n",
       "      <td>19.00</td>\n",
       "      <td>7.0</td>\n",
       "      <td>1.253391e+08</td>\n",
       "    </tr>\n",
       "    <tr>\n",
       "      <th>7</th>\n",
       "      <td>9.50</td>\n",
       "      <td>3.0</td>\n",
       "      <td>6.767384e+04</td>\n",
       "    </tr>\n",
       "    <tr>\n",
       "      <th>8</th>\n",
       "      <td>17.90</td>\n",
       "      <td>10.0</td>\n",
       "      <td>4.998629e+09</td>\n",
       "    </tr>\n",
       "    <tr>\n",
       "      <th>9</th>\n",
       "      <td>18.75</td>\n",
       "      <td>9.0</td>\n",
       "      <td>1.762843e+09</td>\n",
       "    </tr>\n",
       "    <tr>\n",
       "      <th>10</th>\n",
       "      <td>19.83</td>\n",
       "      <td>8.0</td>\n",
       "      <td>5.159713e+08</td>\n",
       "    </tr>\n",
       "    <tr>\n",
       "      <th>11</th>\n",
       "      <td>10.75</td>\n",
       "      <td>4.0</td>\n",
       "      <td>5.871697e+05</td>\n",
       "    </tr>\n",
       "    <tr>\n",
       "      <th>12</th>\n",
       "      <td>16.68</td>\n",
       "      <td>7.0</td>\n",
       "      <td>1.253391e+08</td>\n",
       "    </tr>\n",
       "    <tr>\n",
       "      <th>13</th>\n",
       "      <td>11.50</td>\n",
       "      <td>3.0</td>\n",
       "      <td>6.767384e+04</td>\n",
       "    </tr>\n",
       "    <tr>\n",
       "      <th>14</th>\n",
       "      <td>12.03</td>\n",
       "      <td>3.0</td>\n",
       "      <td>6.767384e+04</td>\n",
       "    </tr>\n",
       "    <tr>\n",
       "      <th>15</th>\n",
       "      <td>14.88</td>\n",
       "      <td>4.0</td>\n",
       "      <td>5.871697e+05</td>\n",
       "    </tr>\n",
       "    <tr>\n",
       "      <th>16</th>\n",
       "      <td>13.75</td>\n",
       "      <td>6.0</td>\n",
       "      <td>2.526949e+07</td>\n",
       "    </tr>\n",
       "    <tr>\n",
       "      <th>17</th>\n",
       "      <td>18.11</td>\n",
       "      <td>7.0</td>\n",
       "      <td>1.253391e+08</td>\n",
       "    </tr>\n",
       "    <tr>\n",
       "      <th>18</th>\n",
       "      <td>8.00</td>\n",
       "      <td>2.0</td>\n",
       "      <td>6.473320e+03</td>\n",
       "    </tr>\n",
       "    <tr>\n",
       "      <th>19</th>\n",
       "      <td>17.83</td>\n",
       "      <td>7.0</td>\n",
       "      <td>1.253391e+08</td>\n",
       "    </tr>\n",
       "    <tr>\n",
       "      <th>20</th>\n",
       "      <td>21.50</td>\n",
       "      <td>5.0</td>\n",
       "      <td>4.228200e+06</td>\n",
       "    </tr>\n",
       "  </tbody>\n",
       "</table>\n",
       "</div>"
      ],
      "text/plain": [
       "    Deliver_Time  Sorting_Time          pred\n",
       "0          21.00          10.0  4.998629e+09\n",
       "1          13.50           4.0  5.871697e+05\n",
       "2          19.75           6.0  2.526949e+07\n",
       "3          24.00           9.0  1.762843e+09\n",
       "4          29.00          10.0  4.998629e+09\n",
       "5          15.35           6.0  2.526949e+07\n",
       "6          19.00           7.0  1.253391e+08\n",
       "7           9.50           3.0  6.767384e+04\n",
       "8          17.90          10.0  4.998629e+09\n",
       "9          18.75           9.0  1.762843e+09\n",
       "10         19.83           8.0  5.159713e+08\n",
       "11         10.75           4.0  5.871697e+05\n",
       "12         16.68           7.0  1.253391e+08\n",
       "13         11.50           3.0  6.767384e+04\n",
       "14         12.03           3.0  6.767384e+04\n",
       "15         14.88           4.0  5.871697e+05\n",
       "16         13.75           6.0  2.526949e+07\n",
       "17         18.11           7.0  1.253391e+08\n",
       "18          8.00           2.0  6.473320e+03\n",
       "19         17.83           7.0  1.253391e+08\n",
       "20         21.50           5.0  4.228200e+06"
      ]
     },
     "execution_count": 39,
     "metadata": {},
     "output_type": "execute_result"
    }
   ],
   "source": [
    "# Convert predicted log values into predicted values\n",
    "pred_3log = model_3.predict(dt_st)\n",
    "pred_3 = np.exp(pred_3log)\n",
    "dt_st['pred']=pred_3\n",
    "dt_st"
   ]
  },
  {
   "cell_type": "code",
   "execution_count": 40,
   "id": "580b7764",
   "metadata": {
    "ExecuteTime": {
     "end_time": "2023-02-14T15:27:14.907617Z",
     "start_time": "2023-02-14T15:27:14.709631Z"
    }
   },
   "outputs": [
    {
     "data": {
      "image/png": "[encoded data removed]",
      "text/plain": [
       "<Figure size 432x288 with 1 Axes>"
      ]
     },
     "metadata": {
      "needs_background": "light"
     },
     "output_type": "display_data"
    }
   ],
   "source": [
    "plt.scatter(dt_st.Sorting_Time,dt_st.Deliver_Time,c=\"b\")\n",
    "plt.plot(dt_st.Sorting_Time,pred_3,\"r\")\n",
    "plt.show()"
   ]
  },
  {
   "cell_type": "code",
   "execution_count": 41,
   "id": "b3bdfe55",
   "metadata": {
    "ExecuteTime": {
     "end_time": "2023-02-14T15:27:14.923394Z",
     "start_time": "2023-02-14T15:27:14.909430Z"
    }
   },
   "outputs": [
    {
     "data": {
      "text/html": [
       "<table class=\"simpletable\">\n",
       "<caption>OLS Regression Results</caption>\n",
       "<tr>\n",
       "  <th>Dep. Variable:</th>      <td>Deliver_Time</td>   <th>  R-squared:         </th> <td>   0.693</td>\n",
       "</tr>\n",
       "<tr>\n",
       "  <th>Model:</th>                   <td>OLS</td>       <th>  Adj. R-squared:    </th> <td>   0.659</td>\n",
       "</tr>\n",
       "<tr>\n",
       "  <th>Method:</th>             <td>Least Squares</td>  <th>  F-statistic:       </th> <td>   20.36</td>\n",
       "</tr>\n",
       "<tr>\n",
       "  <th>Date:</th>             <td>Tue, 14 Feb 2023</td> <th>  Prob (F-statistic):</th> <td>2.39e-05</td>\n",
       "</tr>\n",
       "<tr>\n",
       "  <th>Time:</th>                 <td>20:57:14</td>     <th>  Log-Likelihood:    </th> <td> -50.981</td>\n",
       "</tr>\n",
       "<tr>\n",
       "  <th>No. Observations:</th>      <td>    21</td>      <th>  AIC:               </th> <td>   108.0</td>\n",
       "</tr>\n",
       "<tr>\n",
       "  <th>Df Residuals:</th>          <td>    18</td>      <th>  BIC:               </th> <td>   111.1</td>\n",
       "</tr>\n",
       "<tr>\n",
       "  <th>Df Model:</th>              <td>     2</td>      <th>                     </th>     <td> </td>   \n",
       "</tr>\n",
       "<tr>\n",
       "  <th>Covariance Type:</th>      <td>nonrobust</td>    <th>                     </th>     <td> </td>   \n",
       "</tr>\n",
       "</table>\n",
       "<table class=\"simpletable\">\n",
       "<tr>\n",
       "              <td></td>                 <th>coef</th>     <th>std err</th>      <th>t</th>      <th>P>|t|</th>  <th>[0.025</th>    <th>0.975]</th>  \n",
       "</tr>\n",
       "<tr>\n",
       "  <th>Intercept</th>                 <td>    3.5222</td> <td>    4.160</td> <td>    0.847</td> <td> 0.408</td> <td>   -5.217</td> <td>   12.261</td>\n",
       "</tr>\n",
       "<tr>\n",
       "  <th>Sorting_Time</th>              <td>    2.8130</td> <td>    1.461</td> <td>    1.926</td> <td> 0.070</td> <td>   -0.256</td> <td>    5.882</td>\n",
       "</tr>\n",
       "<tr>\n",
       "  <th>np.power(Sorting_Time, 2)</th> <td>   -0.0932</td> <td>    0.115</td> <td>   -0.810</td> <td> 0.429</td> <td>   -0.335</td> <td>    0.149</td>\n",
       "</tr>\n",
       "</table>\n",
       "<table class=\"simpletable\">\n",
       "<tr>\n",
       "  <th>Omnibus:</th>       <td> 5.388</td> <th>  Durbin-Watson:     </th> <td>   1.345</td>\n",
       "</tr>\n",
       "<tr>\n",
       "  <th>Prob(Omnibus):</th> <td> 0.068</td> <th>  Jarque-Bera (JB):  </th> <td>   3.393</td>\n",
       "</tr>\n",
       "<tr>\n",
       "  <th>Skew:</th>          <td> 0.943</td> <th>  Prob(JB):          </th> <td>   0.183</td>\n",
       "</tr>\n",
       "<tr>\n",
       "  <th>Kurtosis:</th>      <td> 3.563</td> <th>  Cond. No.          </th> <td>    373.</td>\n",
       "</tr>\n",
       "</table><br/><br/>Notes:<br/>[1] Standard Errors assume that the covariance matrix of the errors is correctly specified."
      ],
      "text/plain": [
       "<class 'statsmodels.iolib.summary.Summary'>\n",
       "\"\"\"\n",
       "                            OLS Regression Results                            \n",
       "==============================================================================\n",
       "Dep. Variable:           Deliver_Time   R-squared:                       0.693\n",
       "Model:                            OLS   Adj. R-squared:                  0.659\n",
       "Method:                 Least Squares   F-statistic:                     20.36\n",
       "Date:                Tue, 14 Feb 2023   Prob (F-statistic):           2.39e-05\n",
       "Time:                        20:57:14   Log-Likelihood:                -50.981\n",
       "No. Observations:                  21   AIC:                             108.0\n",
       "Df Residuals:                      18   BIC:                             111.1\n",
       "Df Model:                           2                                         \n",
       "Covariance Type:            nonrobust                                         \n",
       "=============================================================================================\n",
       "                                coef    std err          t      P>|t|      [0.025      0.975]\n",
       "---------------------------------------------------------------------------------------------\n",
       "Intercept                     3.5222      4.160      0.847      0.408      -5.217      12.261\n",
       "Sorting_Time                  2.8130      1.461      1.926      0.070      -0.256       5.882\n",
       "np.power(Sorting_Time, 2)    -0.0932      0.115     -0.810      0.429      -0.335       0.149\n",
       "==============================================================================\n",
       "Omnibus:                        5.388   Durbin-Watson:                   1.345\n",
       "Prob(Omnibus):                  0.068   Jarque-Bera (JB):                3.393\n",
       "Skew:                           0.943   Prob(JB):                        0.183\n",
       "Kurtosis:                       3.563   Cond. No.                         373.\n",
       "==============================================================================\n",
       "\n",
       "Notes:\n",
       "[1] Standard Errors assume that the covariance matrix of the errors is correctly specified.\n",
       "\"\"\""
      ]
     },
     "execution_count": 41,
     "metadata": {},
     "output_type": "execute_result"
    }
   ],
   "source": [
    "model_3.summary()"
   ]
  },
  {
   "cell_type": "code",
   "execution_count": 42,
   "id": "ee7decb8",
   "metadata": {
    "ExecuteTime": {
     "end_time": "2023-02-14T15:27:14.939351Z",
     "start_time": "2023-02-14T15:27:14.925386Z"
    }
   },
   "outputs": [
    {
     "data": {
      "text/plain": [
       "1970075106.0896018"
      ]
     },
     "execution_count": 42,
     "metadata": {},
     "output_type": "execute_result"
    }
   ],
   "source": [
    "# Root Mean Square Error(RMSE)\n",
    "rmse_3 = np.sqrt(np.mean((dt_st.Deliver_Time-pred_3)**2))\n",
    "rmse_3"
   ]
  },
  {
   "cell_type": "markdown",
   "id": "7ea67978",
   "metadata": {},
   "source": [
    "#### The R² value is improved and the RMSE value also decreased."
   ]
  },
  {
   "cell_type": "markdown",
   "id": "88f0bd10",
   "metadata": {
    "ExecuteTime": {
     "end_time": "2022-10-21T15:07:39.709626Z",
     "start_time": "2022-10-21T15:07:39.701546Z"
    }
   },
   "source": [
    "### Step-6 : Final Results"
   ]
  },
  {
   "cell_type": "code",
   "execution_count": 43,
   "id": "1320d682",
   "metadata": {
    "ExecuteTime": {
     "end_time": "2023-02-14T15:27:14.987401Z",
     "start_time": "2023-02-14T15:27:14.941344Z"
    }
   },
   "outputs": [
    {
     "data": {
      "text/html": [
       "<div>\n",
       "<style scoped>\n",
       "    .dataframe tbody tr th:only-of-type {\n",
       "        vertical-align: middle;\n",
       "    }\n",
       "\n",
       "    .dataframe tbody tr th {\n",
       "        vertical-align: top;\n",
       "    }\n",
       "\n",
       "    .dataframe thead th {\n",
       "        text-align: right;\n",
       "    }\n",
       "</style>\n",
       "<table border=\"1\" class=\"dataframe\">\n",
       "  <thead>\n",
       "    <tr style=\"text-align: right;\">\n",
       "      <th></th>\n",
       "      <th>MODEL</th>\n",
       "      <th>R²_Values</th>\n",
       "      <th>RMSE_Values</th>\n",
       "    </tr>\n",
       "  </thead>\n",
       "  <tbody>\n",
       "    <tr>\n",
       "      <th>0</th>\n",
       "      <td>Linear</td>\n",
       "      <td>0.682271</td>\n",
       "      <td>2.791650e+00</td>\n",
       "    </tr>\n",
       "    <tr>\n",
       "      <th>1</th>\n",
       "      <td>Logarithmic</td>\n",
       "      <td>0.695443</td>\n",
       "      <td>2.733171e+00</td>\n",
       "    </tr>\n",
       "    <tr>\n",
       "      <th>2</th>\n",
       "      <td>Exponential</td>\n",
       "      <td>0.710948</td>\n",
       "      <td>2.940250e+00</td>\n",
       "    </tr>\n",
       "    <tr>\n",
       "      <th>3</th>\n",
       "      <td>Quadratic</td>\n",
       "      <td>0.693440</td>\n",
       "      <td>1.970075e+09</td>\n",
       "    </tr>\n",
       "  </tbody>\n",
       "</table>\n",
       "</div>"
      ],
      "text/plain": [
       "         MODEL  R²_Values   RMSE_Values\n",
       "0       Linear   0.682271  2.791650e+00\n",
       "1  Logarithmic   0.695443  2.733171e+00\n",
       "2  Exponential   0.710948  2.940250e+00\n",
       "3    Quadratic   0.693440  1.970075e+09"
      ]
     },
     "execution_count": 43,
     "metadata": {},
     "output_type": "execute_result"
    }
   ],
   "source": [
    "results = {\"MODEL\":pd.Series([\"Linear\",\"Logarithmic\",\"Exponential\",\"Quadratic\"]),\n",
    "           \"R²_Values\":pd.Series([model.rsquared,model_1.rsquared,model_2.rsquared,model_3.rsquared]),\n",
    "           \"RMSE_Values\":pd.Series([rmse,rmse_1,rmse_2,rmse_3])\n",
    "          }\n",
    "result_table=pd.DataFrame(results)\n",
    "result_table "
   ]
  },
  {
   "cell_type": "markdown",
   "id": "b0eac6a7",
   "metadata": {},
   "source": [
    "##### From the above results we can see that the Quadratic model is having best R² and less RMSE values\n",
    "##### Hence this model can be selected and used for predicting deliver time"
   ]
  },
  {
   "cell_type": "markdown",
   "id": "d18d3b26",
   "metadata": {},
   "source": [
    "### Step-7: Residual Analysis"
   ]
  },
  {
   "cell_type": "code",
   "execution_count": 44,
   "id": "dfd7c60b",
   "metadata": {
    "ExecuteTime": {
     "end_time": "2023-02-14T15:27:15.144509Z",
     "start_time": "2023-02-14T15:27:14.989395Z"
    }
   },
   "outputs": [
    {
     "data": {
      "image/png": "[encoded data removed]",
      "text/plain": [
       "<Figure size 432x288 with 1 Axes>"
      ]
     },
     "metadata": {
      "needs_background": "light"
     },
     "output_type": "display_data"
    }
   ],
   "source": [
    "plt.plot(np.arange(len(dt_st)),model_3.resid_pearson)\n",
    "plt.axhline(y=0,color='red')\n",
    "plt.xlabel(\"Observation Number\")\n",
    "plt.ylabel(\"Standardized Residual\") \n",
    "plt.show()"
   ]
  },
  {
   "cell_type": "code",
   "execution_count": 45,
   "id": "9846815a",
   "metadata": {
    "ExecuteTime": {
     "end_time": "2023-02-14T15:27:15.300190Z",
     "start_time": "2023-02-14T15:27:15.146507Z"
    }
   },
   "outputs": [
    {
     "data": {
      "image/png": "[encoded data removed]",
      "text/plain": [
       "<Figure size 432x288 with 1 Axes>"
      ]
     },
     "metadata": {
      "needs_background": "light"
     },
     "output_type": "display_data"
    }
   ],
   "source": [
    "plt.scatter(np.arange(len(dt_st)),model_3.resid_pearson)\n",
    "plt.axhline(y=0,color='red')\n",
    "plt.xlabel(\"Observation Number\")\n",
    "plt.ylabel(\"Standardized Residual\")\n",
    "plt.show()"
   ]
  },
  {
   "cell_type": "code",
   "execution_count": 46,
   "id": "ded7c12a",
   "metadata": {
    "ExecuteTime": {
     "end_time": "2023-02-14T15:27:15.467661Z",
     "start_time": "2023-02-14T15:27:15.302140Z"
    },
    "scrolled": true
   },
   "outputs": [
    {
     "data": {
      "image/png": "[encoded data removed]",
      "text/plain": [
       "<Figure size 432x288 with 1 Axes>"
      ]
     },
     "metadata": {
      "needs_background": "light"
     },
     "output_type": "display_data"
    }
   ],
   "source": [
    "plt.hist(model_3.resid_pearson)\n",
    "plt.show()"
   ]
  },
  {
   "cell_type": "markdown",
   "id": "cc09bd0e",
   "metadata": {},
   "source": [
    "### Step-8 : Using the model for new data"
   ]
  },
  {
   "cell_type": "code",
   "execution_count": 47,
   "id": "6d2cdaa7",
   "metadata": {
    "ExecuteTime": {
     "end_time": "2023-02-14T15:27:15.483473Z",
     "start_time": "2023-02-14T15:27:15.469664Z"
    }
   },
   "outputs": [],
   "source": [
    "#Predict for new data(Sorting time)\n",
    "newdata=pd.Series([6,30,60])  "
   ]
  },
  {
   "cell_type": "code",
   "execution_count": 48,
   "id": "f63cdf3a",
   "metadata": {
    "ExecuteTime": {
     "end_time": "2023-02-14T15:27:15.499121Z",
     "start_time": "2023-02-14T15:27:15.485479Z"
    }
   },
   "outputs": [
    {
     "data": {
      "text/html": [
       "<div>\n",
       "<style scoped>\n",
       "    .dataframe tbody tr th:only-of-type {\n",
       "        vertical-align: middle;\n",
       "    }\n",
       "\n",
       "    .dataframe tbody tr th {\n",
       "        vertical-align: top;\n",
       "    }\n",
       "\n",
       "    .dataframe thead th {\n",
       "        text-align: right;\n",
       "    }\n",
       "</style>\n",
       "<table border=\"1\" class=\"dataframe\">\n",
       "  <thead>\n",
       "    <tr style=\"text-align: right;\">\n",
       "      <th></th>\n",
       "      <th>Sorting_Time</th>\n",
       "    </tr>\n",
       "  </thead>\n",
       "  <tbody>\n",
       "    <tr>\n",
       "      <th>0</th>\n",
       "      <td>6</td>\n",
       "    </tr>\n",
       "    <tr>\n",
       "      <th>1</th>\n",
       "      <td>30</td>\n",
       "    </tr>\n",
       "    <tr>\n",
       "      <th>2</th>\n",
       "      <td>60</td>\n",
       "    </tr>\n",
       "  </tbody>\n",
       "</table>\n",
       "</div>"
      ],
      "text/plain": [
       "   Sorting_Time\n",
       "0             6\n",
       "1            30\n",
       "2            60"
      ]
     },
     "execution_count": 48,
     "metadata": {},
     "output_type": "execute_result"
    }
   ],
   "source": [
    "data_pred=pd.DataFrame(newdata,columns=['Sorting_Time'])\n",
    "data_pred"
   ]
  },
  {
   "cell_type": "code",
   "execution_count": 49,
   "id": "57909990",
   "metadata": {
    "ExecuteTime": {
     "end_time": "2023-02-14T15:27:15.531095Z",
     "start_time": "2023-02-14T15:27:15.501127Z"
    }
   },
   "outputs": [
    {
     "data": {
      "text/html": [
       "<div>\n",
       "<style scoped>\n",
       "    .dataframe tbody tr th:only-of-type {\n",
       "        vertical-align: middle;\n",
       "    }\n",
       "\n",
       "    .dataframe tbody tr th {\n",
       "        vertical-align: top;\n",
       "    }\n",
       "\n",
       "    .dataframe thead th {\n",
       "        text-align: right;\n",
       "    }\n",
       "</style>\n",
       "<table border=\"1\" class=\"dataframe\">\n",
       "  <thead>\n",
       "    <tr style=\"text-align: right;\">\n",
       "      <th></th>\n",
       "      <th>Sorting_Time</th>\n",
       "      <th>Pred_Deliver_Time</th>\n",
       "    </tr>\n",
       "  </thead>\n",
       "  <tbody>\n",
       "    <tr>\n",
       "      <th>0</th>\n",
       "      <td>6</td>\n",
       "      <td>25269490.55</td>\n",
       "    </tr>\n",
       "    <tr>\n",
       "      <th>1</th>\n",
       "      <td>30</td>\n",
       "      <td>56.48</td>\n",
       "    </tr>\n",
       "    <tr>\n",
       "      <th>2</th>\n",
       "      <td>60</td>\n",
       "      <td>0.00</td>\n",
       "    </tr>\n",
       "  </tbody>\n",
       "</table>\n",
       "</div>"
      ],
      "text/plain": [
       "   Sorting_Time  Pred_Deliver_Time\n",
       "0             6        25269490.55\n",
       "1            30              56.48\n",
       "2            60               0.00"
      ]
     },
     "execution_count": 49,
     "metadata": {},
     "output_type": "execute_result"
    }
   ],
   "source": [
    "# Convert predicted log values into predicted values\n",
    "pred_4log = model_3.predict(data_pred)\n",
    "pred_4 = np.exp(pred_4log)\n",
    "data_pred['Pred_Deliver_Time']=np.round(pred_4,2)\n",
    "data_pred"
   ]
  },
  {
   "cell_type": "markdown",
   "id": "54e27379",
   "metadata": {},
   "source": [
    "#### Hence the Linear Regression model gives accurate predictions"
   ]
  }
 ],
 "metadata": {
  "kernelspec": {
   "display_name": "Python 3 (ipykernel)",
   "language": "python",
   "name": "python3"
  },
  "language_info": {
   "codemirror_mode": {
    "name": "ipython",
    "version": 3
   },
   "file_extension": ".py",
   "mimetype": "text/x-python",
   "name": "python",
   "nbconvert_exporter": "python",
   "pygments_lexer": "ipython3",
   "version": "3.9.12"
  }
 },
 "nbformat": 4,
 "nbformat_minor": 5
}
